{
  "nbformat": 4,
  "nbformat_minor": 0,
  "metadata": {
    "colab": {
      "name": "Playlist_Generator.ipynb",
      "provenance": [],
      "authorship_tag": "ABX9TyN+AEZQvog1exd8Eir1Ez+6",
      "include_colab_link": true
    },
    "kernelspec": {
      "name": "python3",
      "display_name": "Python 3"
    },
    "language_info": {
      "name": "python"
    }
  },
  "cells": [
    {
      "cell_type": "markdown",
      "metadata": {
        "id": "view-in-github",
        "colab_type": "text"
      },
      "source": [
        "<a href=\"https://colab.research.google.com/github/debjitl45/Spotify-Playlist-Generator/blob/main/Playlist_Generator.ipynb\" target=\"_parent\"><img src=\"https://colab.research.google.com/assets/colab-badge.svg\" alt=\"Open In Colab\"/></a>"
      ]
    },
    {
      "cell_type": "code",
      "source": [
        "import requests"
      ],
      "metadata": {
        "id": "cGfHWklqOWep"
      },
      "execution_count": 52,
      "outputs": []
    },
    {
      "cell_type": "code",
      "source": [
        "endpoint_url = \"https://api.spotify.com/v1/recommendations?\"\n",
        "token = \"BQCC9HfRzAPnNXebt4i5HTl_uVn3wAikq-gKwYnMpSEqmVP7w3dQjajW6EtDNId1h3nNy0Ufw8Cc4zFTANrmBePDplmF3OGowpCrvSViicTqtp9q94UKgxTZ4og0uoAEs6OgPgh2toBVx6plWTBejlQ_ws4voLmAzPDDDReOcHLcYzonobzJhUEw7i7Ipa_IWB5jgWIRNIkETIgHOV0ucZ0JbWRhebo_wJs\"\n",
        "user_id = \"31shsko6wlg6uohjabgniuqtprva\""
      ],
      "metadata": {
        "id": "U4KgdcDvKuDS"
      },
      "execution_count": 53,
      "outputs": []
    },
    {
      "cell_type": "code",
      "source": [
        "limit=20\n",
        "market=\"US\"\n",
        "seed_genres=\"indie\"\n",
        "target_danceability=0.9\n",
        "uris = [] \n",
        "seed_artists = '4NHQUGzhtTLFvgF5SZesLK'\n",
        "seed_tracks='0c6xIDDpzE81m2q797ordA'"
      ],
      "metadata": {
        "id": "OP2nZwZNKuGO"
      },
      "execution_count": 54,
      "outputs": []
    },
    {
      "cell_type": "code",
      "source": [
        "query = f'{endpoint_url}limit={limit}&market={market}&seed_genres={seed_genres}&target_danceability={target_danceability}'\n",
        "query += f'&seed_artists={seed_artists}'\n",
        "query += f'&seed_tracks={seed_tracks}'"
      ],
      "metadata": {
        "id": "SU11P-u1KuI0"
      },
      "execution_count": 55,
      "outputs": []
    },
    {
      "cell_type": "code",
      "source": [
        "response = requests.get(query, \n",
        "               headers={\"Content-Type\":\"application/json\", \n",
        "                        \"Authorization\":f\"Bearer {token}\"})\n",
        "json_response = response.json()\n",
        "\n",
        "print('Recommended Songs:')\n",
        "for i,j in enumerate(json_response['tracks']):\n",
        "            uris.append(j['uri'])\n",
        "            print(f\"{i+1}) \\\"{j['name']}\\\" by {j['artists'][0]['name']}\")"
      ],
      "metadata": {
        "colab": {
          "base_uri": "https://localhost:8080/"
        },
        "id": "V_y2Wob2KuLl",
        "outputId": "0decb9ab-a607-4ded-df3f-4a35230e6c3c"
      },
      "execution_count": 56,
      "outputs": [
        {
          "output_type": "stream",
          "name": "stdout",
          "text": [
            "Recommended Songs:\n",
            "1) \"Summer Days\" by Rhye\n",
            "2) \"Wraith Pinned to the Mist and Other Games\" by of Montreal\n",
            "3) \"South of the River\" by Tom Misch\n",
            "4) \"Nuggets (feat. Bonzai)\" by Mura Masa\n",
            "5) \"Hide Away\" by Daya\n",
            "6) \"Throat Goat\" by Kim Petras\n",
            "7) \"Worth It (feat. Kid Ink)\" by Fifth Harmony\n",
            "8) \"Bikini Porn\" by Tove Lo\n",
            "9) \"X\" by Tinashe\n",
            "10) \"Spark The Fire\" by Gwen Stefani\n",
            "11) \"No Wrong\" by Bahamas\n",
            "12) \"Treat Me Like A Slut\" by Kim Petras\n",
            "13) \"You Don't Know Me (feat. RAYE)\" by Jax Jones\n",
            "14) \"Are U gonna tell her? (feat. MC Zaac)\" by Tove Lo\n",
            "15) \"Boys\" by Charli XCX\n",
            "16) \"Christine\" by Christine and the Queens\n",
            "17) \"Don't Touch My Hair (feat. Sampha)\" by Solange\n",
            "18) \"Something About You\" by Hayden James\n",
            "19) \"Started\" by Iggy Azalea\n",
            "20) \"Your Song\" by Rita Ora\n"
          ]
        }
      ]
    },
    {
      "cell_type": "code",
      "source": [
        "import requests\n",
        "import json \n",
        "\n",
        "endpoint_url = f\"https://api.spotify.com/v1/users/{user_id}/playlists\"\n",
        "\n",
        "request_body = json.dumps({\n",
        "          \"name\": \"Indie bands like Franz Ferdinand and Foals but using Python\",\n",
        "          \"description\": \"My first programmatic playlist, yooo!\",\n",
        "          \"public\": False\n",
        "        })\n",
        "response = requests.post(url = endpoint_url, data = request_body, headers={\"Content-Type\":\"application/json\", \n",
        "                        \"Authorization\":f\"Bearer {token}\"})\n",
        "\n",
        "url = response.json()['external_urls']['spotify']\n",
        "print(response.status_code)"
      ],
      "metadata": {
        "colab": {
          "base_uri": "https://localhost:8080/"
        },
        "id": "dsJyFrMqKuOU",
        "outputId": "4fcdc33e-2f32-470a-eaee-c7c60d4b70b6"
      },
      "execution_count": 57,
      "outputs": [
        {
          "output_type": "stream",
          "name": "stdout",
          "text": [
            "201\n"
          ]
        }
      ]
    },
    {
      "cell_type": "code",
      "source": [
        "playlist_id = response.json()['id']\n",
        "\n",
        "endpoint_url = f\"https://api.spotify.com/v1/playlists/{playlist_id}/tracks\"\n",
        "\n",
        "request_body = json.dumps({\n",
        "          \"uris\" : uris\n",
        "        })\n",
        "response = requests.post(url = endpoint_url, data = request_body, headers={\"Content-Type\":\"application/json\", \n",
        "                        \"Authorization\":f\"Bearer {token}\"})\n",
        "\n",
        "print(response.status_code)"
      ],
      "metadata": {
        "colab": {
          "base_uri": "https://localhost:8080/"
        },
        "id": "YyS0imH6R-5-",
        "outputId": "de638162-80c3-436b-ccc9-d2bed867076e"
      },
      "execution_count": 58,
      "outputs": [
        {
          "output_type": "stream",
          "name": "stdout",
          "text": [
            "201\n"
          ]
        }
      ]
    },
    {
      "cell_type": "code",
      "source": [
        "print(f'Your playlist is ready at {url}')"
      ],
      "metadata": {
        "colab": {
          "base_uri": "https://localhost:8080/"
        },
        "id": "PFiH0io5SDiM",
        "outputId": "936901c8-6e44-4767-a4e5-a02852756035"
      },
      "execution_count": 59,
      "outputs": [
        {
          "output_type": "stream",
          "name": "stdout",
          "text": [
            "Your playlist is ready at https://open.spotify.com/playlist/1JShmaoafoxkdZP3Ez5guX\n"
          ]
        }
      ]
    }
  ]
}